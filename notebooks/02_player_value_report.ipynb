{
 "cells": [
  {
   "cell_type": "markdown",
   "id": "5b5c949d",
   "metadata": {},
   "source": [
    "# Player Value Report"
   ]
  },
  {
   "cell_type": "code",
   "execution_count": null,
   "id": "70c5dc13",
   "metadata": {},
   "outputs": [],
   "source": [
    "from pathlib import Path\n",
    "import pandas as pd\n",
    "from tabulate import tabulate\n",
    "from src.utils.io import load_config\n",
    "cfg = load_config()\n",
    "proc = Path(cfg['paths']['processed'])"
   ]
  },
  {
   "cell_type": "code",
   "execution_count": null,
   "id": "f3c5ce6c",
   "metadata": {},
   "outputs": [],
   "source": [
    "bat = pd.read_csv(proc / 'player_batting_features.csv')"
   ]
  },
  {
   "cell_type": "code",
   "execution_count": null,
   "id": "ea295deb",
   "metadata": {},
   "outputs": [],
   "source": [
    "top = bat[['Name','OPS']].dropna().sort_values('OPS', ascending=False).head(10)\n",
    "print(tabulate(top, headers='keys', tablefmt='github', showindex=False))"
   ]
  }
 ],
 "metadata": {},
 "nbformat": 4,
 "nbformat_minor": 5
}
