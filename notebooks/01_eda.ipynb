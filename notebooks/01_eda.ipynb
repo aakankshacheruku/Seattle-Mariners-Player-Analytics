{
 "cells": [
  {
   "cell_type": "markdown",
   "id": "4ca23831",
   "metadata": {},
   "source": [
    "# Exploratory Data Analysis"
   ]
  },
  {
   "cell_type": "code",
   "execution_count": null,
   "id": "a18a96ea",
   "metadata": {},
   "outputs": [],
   "source": [
    "from pathlib import Path\n",
    "import pandas as pd\n",
    "from src.utils.io import load_config\n",
    "cfg = load_config()\n",
    "proc = Path(cfg['paths']['processed'])"
   ]
  },
  {
   "cell_type": "code",
   "execution_count": null,
   "id": "bd53aab3",
   "metadata": {},
   "outputs": [],
   "source": [
    "bat = pd.read_csv(proc / 'player_batting_features.csv') if (proc / 'player_batting_features.csv').exists() else None\n",
    "pit = pd.read_csv(proc / 'player_pitching_features.csv') if (proc / 'player_pitching_features.csv').exists() else None"
   ]
  },
  {
   "cell_type": "code",
   "execution_count": null,
   "id": "5a5dcc47",
   "metadata": {},
   "outputs": [],
   "source": [
    "bat.head() if bat is not None else None"
   ]
  }
 ],
 "metadata": {},
 "nbformat": 4,
 "nbformat_minor": 5
}
